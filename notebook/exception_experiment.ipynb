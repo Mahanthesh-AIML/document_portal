{
 "cells": [
  {
   "cell_type": "code",
   "execution_count": null,
   "id": "48d723a1",
   "metadata": {},
   "outputs": [],
   "source": [
    "from  logger.custom_logger import CustomLogger\n",
    "logger=CustomLogger().get_logger(\"exception_experiment\")"
   ]
  },
  {
   "cell_type": "code",
   "execution_count": null,
   "id": "5007de4c",
   "metadata": {},
   "outputs": [],
   "source": [
    "import sys\n",
    "import traceback\n",
    "\n",
    "class DocumentPortalException(Exception):\n",
    "    \"\"\"Custom exception for Document Portal.\"\"\"\n",
    "\n",
    "    def __init__(self, error_message: str, error_details: sys):\n",
    "        \"\"\"\n",
    "        Initialize the custom exception with message and system details.\n",
    "        \"\"\"\n",
    "        # Extract exception details using sys.exc_info()\n",
    "        _, _, exc_tb = error_details.exc_info()\n",
    "\n",
    "        # Capture file name and line number where the error occurred\n",
    "        file_name = exc_tb.tb_frame.f_code.co_filename\n",
    "        line_number = exc_tb.tb_lineno\n",
    "        traceback_details = traceback.format_exception(*error_details.exc_info())\n",
    "\n",
    "        # Store a formatted message\n",
    "        self.error_message = (\n",
    "            f\"Error: {error_message}\\n\"\n",
    "            f\"File: {file_name}\\n\"\n",
    "            f\"Line: {line_number}\\n\"\n",
    "            f\"Traceback: {''.join(traceback_details)}\"\n",
    "        )\n",
    "\n",
    "    def __str__(self):\n",
    "        \"\"\"\n",
    "        Return the formatted error message when printed.\n",
    "        \"\"\"\n",
    "        return self.error_message\n",
    "\n",
    "\n",
    "if __name__ == \"__main__\":\n",
    "    try:\n",
    "        # Simulate an error\n",
    "        a = 1 / 0\n",
    "        print(a)\n",
    "\n",
    "    except Exception as e:\n",
    "        # Wrap the original error inside your custom exception\n",
    "        app_exc = DocumentPortalException(e, sys)\n",
    "        raise app_exc\n"
   ]
  }
 ],
 "metadata": {
  "kernelspec": {
   "display_name": "Python 3",
   "language": "python",
   "name": "python3"
  },
  "language_info": {
   "name": "python",
   "version": "3.10.19"
  }
 },
 "nbformat": 4,
 "nbformat_minor": 5
}
