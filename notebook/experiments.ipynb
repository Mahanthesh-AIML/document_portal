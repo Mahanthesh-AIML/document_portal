{
 "cells": [
  {
   "cell_type": "code",
   "execution_count": 2,
   "id": "834c8afa",
   "metadata": {},
   "outputs": [
    {
     "name": "stdout",
     "output_type": "stream",
     "text": [
      "all okay\n"
     ]
    }
   ],
   "source": [
    "print(\"all okay\")"
   ]
  },
  {
   "cell_type": "code",
   "execution_count": 3,
   "id": "c868e2a0",
   "metadata": {},
   "outputs": [
    {
     "data": {
      "text/plain": [
       "True"
      ]
     },
     "execution_count": 3,
     "metadata": {},
     "output_type": "execute_result"
    }
   ],
   "source": [
    "from dotenv import load_dotenv\n",
    "load_dotenv()\n"
   ]
  },
  {
   "cell_type": "code",
   "execution_count": 4,
   "id": "980b88a7",
   "metadata": {},
   "outputs": [
    {
     "name": "stderr",
     "output_type": "stream",
     "text": [
      "c:\\AIMLProjects\\document_portal\\env\\lib\\site-packages\\tqdm\\auto.py:21: TqdmWarning: IProgress not found. Please update jupyter and ipywidgets. See https://ipywidgets.readthedocs.io/en/stable/user_install.html\n",
      "  from .autonotebook import tqdm as notebook_tqdm\n"
     ]
    },
    {
     "name": "stdout",
     "output_type": "stream",
     "text": [
      "<think>\n",
      "Okay, the user is asking about the current weather in Bangalore. Let me start by checking if I can provide live weather data. Since I don't have real-time capabilities, I can't fetch live updates. I need to inform them about that.\n",
      "\n",
      "First, I should acknowledge their question and mention that I can't provide live weather. Then, suggest checking a reliable source like a weather app or website. Maybe list a few examples like Weather.com or AccuWeather. Also, mention that Bangalore typically has a tropical savanna climate, which means hot and dry during certain months and some rain in others. It's good to give a general idea based on the season, but I should avoid specific details since I don't have current data.\n",
      "\n",
      "Wait, the user might be planning to go out, so suggesting checking the latest forecast would be helpful. Also, maybe add a note about the typical weather patterns in Bangalore for context. Make sure the response is friendly and helpful, guiding them to the right resources. Let me structure that clearly without being too technical. Double-check that I'm not making up any specific temperature or conditions. Keep it straightforward and honest about the limitations. Alright, that should cover it.\n",
      "</think>\n",
      "\n",
      "I currently cannot provide real-time weather updates for Bangalore. However, you can check the latest weather forecast using reliable sources like:\n",
      "\n",
      "- **Weather.com**  \n",
      "- **AccuWeather**  \n",
      "- **Google Weather** (search \"Bangalore weather\" on Google)  \n",
      "- **The Weather Channel**  \n",
      "\n",
      "For context, Bangalore typically has a **tropical savanna climate**, with hot, dry summers (March–June) and milder, wetter conditions during monsoon season (July–September). Winters (October–February) are generally pleasant with cooler temperatures.  \n",
      "\n",
      "Let me know if you'd like help interpreting weather data or planning for specific conditions! ☀️🌧️\n"
     ]
    }
   ],
   "source": [
    "from langchain_groq import ChatGroq\n",
    "\n",
    "model = ChatGroq(model=\"qwen/qwen3-32b\")\n",
    "response = model.invoke(\"How is the weather today at Bangalore?\")\n",
    "print(response.content)\n"
   ]
  },
  {
   "cell_type": "code",
   "execution_count": 5,
   "id": "13d4a939",
   "metadata": {},
   "outputs": [
    {
     "name": "stdout",
     "output_type": "stream",
     "text": [
      "Embedding length: 384\n",
      "First 10 values: [-0.03447727859020233, 0.031023195013403893, 0.0067350007593631744, 0.02610897831618786, -0.03936203941702843, -0.16030246019363403, 0.06692393869161606, -0.006441489793360233, -0.04745043069124222, 0.014758850447833538]\n"
     ]
    }
   ],
   "source": [
    "from langchain_huggingface import HuggingFaceEmbeddings\n",
    "\n",
    "embedding_model = HuggingFaceEmbeddings(model_name=\"sentence-transformers/all-MiniLM-L6-v2\")\n",
    "vector = embedding_model.embed_query(\"Hello world\")\n",
    "\n",
    "print(f\"Embedding length: {len(vector)}\")\n",
    "print(\"First 10 values:\", vector[:10])\n"
   ]
  },
  {
   "cell_type": "markdown",
   "id": "9a92a20c",
   "metadata": {},
   "source": [
    "## 1. Data Ingestion"
   ]
  },
  {
   "cell_type": "code",
   "execution_count": 12,
   "id": "f1a43752",
   "metadata": {},
   "outputs": [],
   "source": [
    "from langchain_community.document_loaders import PyPDFLoader\n",
    "\n",
    "\n"
   ]
  },
  {
   "cell_type": "code",
   "execution_count": null,
   "id": "2ff5246b",
   "metadata": {},
   "outputs": [],
   "source": [
    "\n",
    "from langchain_text_splitters import RecursiveCharacterTextSplitter\n"
   ]
  }
 ],
 "metadata": {
  "kernelspec": {
   "display_name": "Python 3",
   "language": "python",
   "name": "python3"
  },
  "language_info": {
   "codemirror_mode": {
    "name": "ipython",
    "version": 3
   },
   "file_extension": ".py",
   "mimetype": "text/x-python",
   "name": "python",
   "nbconvert_exporter": "python",
   "pygments_lexer": "ipython3",
   "version": "3.10.19"
  }
 },
 "nbformat": 4,
 "nbformat_minor": 5
}
