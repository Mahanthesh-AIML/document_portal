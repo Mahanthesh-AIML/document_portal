{
 "cells": [
  {
   "cell_type": "code",
   "execution_count": 1,
   "id": "03e7844c",
   "metadata": {},
   "outputs": [
    {
     "name": "stdout",
     "output_type": "stream",
     "text": [
      "All ok\n"
     ]
    }
   ],
   "source": [
    "print(\"All ok\")"
   ]
  },
  {
   "cell_type": "code",
   "execution_count": 9,
   "id": "6906837c",
   "metadata": {},
   "outputs": [
    {
     "data": {
      "text/plain": [
       "'c:\\\\AIMLProjects\\\\document_portal\\\\notebook\\\\logs\\\\2025-10-28_20-37-46.log'"
      ]
     },
     "execution_count": 9,
     "metadata": {},
     "output_type": "execute_result"
    }
   ],
   "source": [
    "import logging\n",
    "import os\n",
    "from datetime import datetime\n",
    "\n",
    "logs_dir = os.path.join(os.getcwd(), \"logs\")\n",
    "os.makedirs(logs_dir, exist_ok=True)\n",
    "LOG_FILE = os.path.join(logs_dir, f\"{datetime.now().strftime('%Y-%m-%d_%H-%M-%S')}.log\")\n",
    "LOG_FILE"
   ]
  },
  {
   "cell_type": "code",
   "execution_count": 10,
   "id": "1541e856",
   "metadata": {},
   "outputs": [],
   "source": [
    "os.path.join(logs_dir, LOG_FILE)\n",
    "logging.basicConfig(\n",
    "    filename=LOG_FILE,\n",
    "    level=logging.INFO,\n",
    "    format='[%(asctime)s] %(levelname)s - %(name)s (line:%(lineno)d) - %(message)s',\n",
    ")"
   ]
  },
  {
   "cell_type": "code",
   "execution_count": 11,
   "id": "2afd517e",
   "metadata": {},
   "outputs": [],
   "source": [
    "logging.getLogger(\"DocumentPortal\").info(\"This is a info log message\")"
   ]
  }
 ],
 "metadata": {
  "kernelspec": {
   "display_name": "Python 3",
   "language": "python",
   "name": "python3"
  },
  "language_info": {
   "codemirror_mode": {
    "name": "ipython",
    "version": 3
   },
   "file_extension": ".py",
   "mimetype": "text/x-python",
   "name": "python",
   "nbconvert_exporter": "python",
   "pygments_lexer": "ipython3",
   "version": "3.10.19"
  }
 },
 "nbformat": 4,
 "nbformat_minor": 5
}
